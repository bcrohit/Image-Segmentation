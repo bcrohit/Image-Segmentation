{
 "cells": [
  {
   "cell_type": "markdown",
   "id": "e22751f5",
   "metadata": {},
   "source": [
    "Importing\n",
    "--"
   ]
  },
  {
   "cell_type": "code",
   "execution_count": 1,
   "id": "77b9fa6f",
   "metadata": {},
   "outputs": [],
   "source": [
    "import os\n",
    "from PIL import Image\n",
    "import matplotlib.colors as plt\n",
    "from matplotlib.pyplot import imshow\n",
    "import webcolors as wc\n",
    "from imageio import imread\n",
    "from sklearn.cluster import KMeans\n",
    "from scipy.spatial import KDTree\n",
    "import pandas as pd\n",
    "import numpy as np\n",
    "from sklearn.metrics import accuracy_score\n",
    "import warnings\n",
    "warnings.filterwarnings('ignore')"
   ]
  },
  {
   "cell_type": "markdown",
   "id": "916596ed",
   "metadata": {},
   "source": [
    "## Resizing Images and Converting"
   ]
  },
  {
   "cell_type": "code",
   "execution_count": 2,
   "id": "8ae71dca",
   "metadata": {},
   "outputs": [],
   "source": [
    "# images = os.listdir(r\"D:\\Pics Training\\Pics Png\")\n",
    "# i = 1\n",
    "# root_path = \"D:\\Pics Training\"\n",
    "\n",
    "# for image in images:\n",
    "#     path = os.path.join(root_path, image)\n",
    "#     img = Image.open(path)\n",
    "#     img = img.resize((200, 200))\n",
    "#     img.save(\"D:\\\\Pics Training\\\\Pics Png\\\\\" + str(i) + \".png\")\n",
    "#     i = i+1\n",
    "#     img.close()\n",
    "#     if i==40:\n",
    "#         break"
   ]
  },
  {
   "cell_type": "markdown",
   "id": "d3ef19db",
   "metadata": {},
   "source": [
    "Converting RGB to Name\n",
    "--"
   ]
  },
  {
   "cell_type": "code",
   "execution_count": 3,
   "id": "33ee9b72",
   "metadata": {},
   "outputs": [],
   "source": [
    "def convert_rgb_to_names(rgb_tuple):\n",
    "    css3_db = wc.CSS3_HEX_TO_NAMES\n",
    "    names = []\n",
    "    rgb_values = []\n",
    "    for color_hex, color_name in css3_db.items():\n",
    "        names.append(color_name)\n",
    "        rgb_values.append(wc.hex_to_rgb(color_hex))\n",
    "    \n",
    "    kdt_db = KDTree(rgb_values)\n",
    "    distance, index = kdt_db.query(rgb_tuple)\n",
    "    return names[index]"
   ]
  },
  {
   "cell_type": "markdown",
   "id": "25545b1a",
   "metadata": {},
   "source": [
    "Finding Image Colors\n",
    "--"
   ]
  },
  {
   "cell_type": "code",
   "execution_count": null,
   "id": "43bc87a5",
   "metadata": {},
   "outputs": [],
   "source": [
    "images = os.listdir(r\"D:\\Pics Training\\Pics Png\")\n",
    "root_path = \"D:\\Pics Training\\Pics png\"\n",
    "colors = []\n",
    "\n",
    "k=5\n",
    "kmeans = KMeans(n_clusters=k)\n",
    "\n",
    "for image in images:\n",
    "    path = os.path.join(root_path, image)\n",
    "    img = imread(path)\n",
    "    img = img.reshape(-1, 3)\n",
    "    kmeans.fit(img)\n",
    "    clusters = kmeans.cluster_centers_\n",
    "    color_names=[]\n",
    "    for row in clusters:\n",
    "        color_names.append(convert_rgb_to_names(row))\n",
    "    colors.append(color_names)"
   ]
  },
  {
   "cell_type": "markdown",
   "id": "e6409917",
   "metadata": {},
   "source": [
    "Creatin the Data Set by Mapping\n",
    "-"
   ]
  },
  {
   "cell_type": "code",
   "execution_count": 5,
   "id": "e492fd7d",
   "metadata": {},
   "outputs": [],
   "source": [
    "all_color_names = list(wc.CSS3_HEX_TO_NAMES.values())\n",
    "\n",
    "def color_matching(image_colors, names_list=all_color_names):\n",
    "    all_image_colors = []\n",
    "    for ic in image_colors:\n",
    "        color_mapping = [-1 for i in range(len(names_list))]\n",
    "        for index, color in enumerate(names_list):\n",
    "            if ic[0] == color:\n",
    "                color_mapping[index] = 1 \n",
    "            elif ic[1] == color:\n",
    "                color_mapping[index] = 1 \n",
    "            elif ic[2] == color:\n",
    "                color_mapping[index] = 1 \n",
    "            elif ic[3] == color:\n",
    "                color_mapping[index] = 1 \n",
    "            elif ic[4] == color:\n",
    "                color_mapping[index] = 1 \n",
    "            else:\n",
    "                color_mapping[index] = 0\n",
    "        all_image_colors.append(color_mapping)\n",
    "    return all_image_colors\n",
    "\n",
    "mapped = color_matching(colors)"
   ]
  },
  {
   "cell_type": "markdown",
   "id": "df1cbffa",
   "metadata": {},
   "source": [
    "Preparing Data\n",
    "--"
   ]
  },
  {
   "cell_type": "code",
   "execution_count": 6,
   "id": "35165579",
   "metadata": {},
   "outputs": [],
   "source": [
    "data = pd.DataFrame(mapped, columns=all_color_names)\n",
    "features = data.copy()\n",
    "pd.set_option('display.max_columns', None)"
   ]
  },
  {
   "cell_type": "code",
   "execution_count": 7,
   "id": "3250ab99",
   "metadata": {
    "scrolled": true
   },
   "outputs": [],
   "source": [
    "data['pic'] = ['M', 'M', 'M', 'M', 'M', 'M', 'M', 'M', 'M', 'M', 'M', 'M', 'M', 'M', 'M', 'M', 'M', 'M', 'M', \n",
    "               'S', 'S', 'S', 'S', 'S', 'S', 'S', 'S', 'S', 'S', 'S', 'S', 'S', 'S', 'S', 'S', 'S', 'S', 'S', 'S', 'S']\n",
    "target = data['pic'].map({'M':1, 'S':0})"
   ]
  },
  {
   "cell_type": "markdown",
   "id": "0cef1edc",
   "metadata": {},
   "source": [
    "Test and Train Data\n",
    "-"
   ]
  },
  {
   "cell_type": "code",
   "execution_count": 8,
   "id": "3377ac8b",
   "metadata": {},
   "outputs": [],
   "source": [
    "from sklearn.model_selection import train_test_split\n",
    "xTrain, xTest, yTrain, yTest = train_test_split(features, target, test_size=0.2, random_state=42)"
   ]
  },
  {
   "cell_type": "markdown",
   "id": "a6dd8067",
   "metadata": {},
   "source": [
    "Random Forest\n",
    "-"
   ]
  },
  {
   "cell_type": "code",
   "execution_count": 9,
   "id": "6597de04",
   "metadata": {},
   "outputs": [
    {
     "data": {
      "text/plain": [
       "0.875"
      ]
     },
     "execution_count": 9,
     "metadata": {},
     "output_type": "execute_result"
    }
   ],
   "source": [
    "from sklearn.ensemble import RandomForestClassifier\n",
    "rf_clf = RandomForestClassifier(n_estimators=10, criterion='entropy', max_depth=3, max_samples=10, random_state=34567)\n",
    "rf_clf.fit(xTrain, yTrain)\n",
    "yPred = rf_clf.predict(xTest)\n",
    "accuracy_score(yPred, yTest)"
   ]
  },
  {
   "cell_type": "markdown",
   "id": "d98393d3",
   "metadata": {},
   "source": [
    "Linear SVM\n",
    "-"
   ]
  },
  {
   "cell_type": "code",
   "execution_count": 10,
   "id": "881bf08c",
   "metadata": {},
   "outputs": [
    {
     "data": {
      "text/plain": [
       "0.75"
      ]
     },
     "execution_count": 10,
     "metadata": {},
     "output_type": "execute_result"
    }
   ],
   "source": [
    "from sklearn.svm import LinearSVC\n",
    "lin_svc = LinearSVC(random_state=0)\n",
    "lin_svc.fit(xTrain, yTrain)\n",
    "yPred = lin_svc.predict(xTest)\n",
    "accuracy_score(yPred, yTest)"
   ]
  },
  {
   "cell_type": "markdown",
   "id": "2ccdc84a",
   "metadata": {},
   "source": [
    "Non-Linear SVM\n",
    "-"
   ]
  },
  {
   "cell_type": "code",
   "execution_count": 11,
   "id": "4e540191",
   "metadata": {},
   "outputs": [
    {
     "data": {
      "text/plain": [
       "0.875"
      ]
     },
     "execution_count": 11,
     "metadata": {},
     "output_type": "execute_result"
    }
   ],
   "source": [
    "from sklearn.svm import SVC\n",
    "svc = SVC(kernel='rbf', random_state=0)\n",
    "svc.fit(xTrain, yTrain)\n",
    "yPred = svc.predict(xTest)\n",
    "accuracy_score(yPred, yTest)"
   ]
  },
  {
   "cell_type": "markdown",
   "id": "c01f1217",
   "metadata": {},
   "source": [
    "Logistic Regression\n",
    "-"
   ]
  },
  {
   "cell_type": "code",
   "execution_count": 12,
   "id": "c0a40b5b",
   "metadata": {},
   "outputs": [
    {
     "data": {
      "text/plain": [
       "0.625"
      ]
     },
     "execution_count": 12,
     "metadata": {},
     "output_type": "execute_result"
    }
   ],
   "source": [
    "from sklearn.linear_model import LogisticRegression\n",
    "log_reg = LogisticRegression()\n",
    "log_reg.fit(xTrain, yTrain)\n",
    "yPred = log_reg.predict(xTest)\n",
    "accuracy_score(yTest, yPred)"
   ]
  },
  {
   "cell_type": "markdown",
   "id": "d76ca485",
   "metadata": {},
   "source": [
    "Testing on New Instance\n",
    "-"
   ]
  },
  {
   "cell_type": "code",
   "execution_count": 23,
   "id": "091012a2",
   "metadata": {},
   "outputs": [],
   "source": [
    "new_path = r\"C:\\Users\\gowda\\Downloads\\Untitled.png\""
   ]
  },
  {
   "cell_type": "code",
   "execution_count": 24,
   "id": "cb78fe09",
   "metadata": {},
   "outputs": [
    {
     "name": "stdout",
     "output_type": "stream",
     "text": [
      "The new image is a 'Sea'\n"
     ]
    }
   ],
   "source": [
    "instance = new_color_match(new_path)\n",
    "prediction = lin_svc.predict([instance])[0]\n",
    "if prediction:\n",
    "    print(\"The new image is a 'Mountain'\")\n",
    "else:\n",
    "    print(\"The new image is a 'Sea'\")"
   ]
  },
  {
   "cell_type": "code",
   "execution_count": 15,
   "id": "241d79f5",
   "metadata": {},
   "outputs": [],
   "source": [
    "def new_color_match(path, names_list=all_color_names):\n",
    "    \n",
    "    img_col = clasify(path)\n",
    "    mapping = [-1 for i in range(len(names_list))]\n",
    "\n",
    "    for ic in img_col:\n",
    "        for index, color_name in enumerate(names_list):\n",
    "            if color_name == ic:\n",
    "                mapping[index] = 1\n",
    "            elif (color_name != ic and mapping[index]==1):\n",
    "                mapping[index] = 1\n",
    "            else:\n",
    "                mapping[index] =0\n",
    "    return mapping"
   ]
  },
  {
   "cell_type": "code",
   "execution_count": 16,
   "id": "8e7e95da",
   "metadata": {},
   "outputs": [],
   "source": [
    "def clasify(path):\n",
    "    colors = []\n",
    "    kmeans = KMeans(n_clusters=5)\n",
    "    image = imread(path)\n",
    "    img = image.reshape(-1, 3)\n",
    "    kmeans.fit(img)\n",
    "    clusters = kmeans.cluster_centers_\n",
    "    for color in clusters:\n",
    "        colors.append(convert_rgb_to_names(color))\n",
    "    return colors"
   ]
  },
  {
   "cell_type": "code",
   "execution_count": 4,
   "id": "f0d585ae",
   "metadata": {},
   "outputs": [],
   "source": [
    "colors = [['gray', 'darkslategray', 'lavender', 'lightskyblue', 'dimgray'],\n",
    " ['skyblue', 'dimgray', 'lavender', 'darkslategray', 'darkgray'],\n",
    " ['darkslategray', 'white', 'gray', 'dimgray', 'dimgray'],\n",
    " ['darkslategray', 'black', 'sienna', 'lightslategray', 'darkolivegreen'],\n",
    " ['sienna', 'darkslategray', 'dimgray', 'silver', 'steelblue'],\n",
    " ['dimgray', 'ghostwhite', 'darkslategray', 'silver', 'lightslategray'],\n",
    " ['darkolivegreen', 'darkkhaki', 'darkolivegreen', 'lightslategray', 'silver'],\n",
    " ['dimgray', 'lavender', 'darkslategray', 'darkgray', 'black'],\n",
    " ['darkolivegreen', 'steelblue', 'darksalmon', 'darkslategray', 'peru'],\n",
    " ['cornflowerblue', 'darkslategray', 'tan', 'dimgray', 'lightsteelblue'],\n",
    " ['dimgray', 'lavender', 'sienna', 'darkslategray', 'lightblue'],\n",
    " ['dimgray', 'white', 'darkgray', 'darkslategray', 'gray'],\n",
    " ['darkolivegreen', 'slategray', 'dodgerblue', 'darkslategray', 'darkgray'],\n",
    " ['darkslategray', 'lightsteelblue', 'dimgray', 'gray', 'darkslategray'],\n",
    " ['darkolivegreen', 'paleturquoise', 'black', 'darkolivegreen', 'gray'],\n",
    " ['lightsteelblue', 'darkolivegreen', 'dimgray', 'black', 'powderblue'],\n",
    " ['gray', 'darkslategray', 'lightsteelblue', 'darkslategray', 'dimgray'],\n",
    " ['lightslategray', 'darkslategray', 'gray', 'darkslategray', 'lightgray'],\n",
    " ['darkolivegreen', 'gainsboro', 'darkslategray', 'dimgray', 'darkgray'],\n",
    " ['gainsboro', 'steelblue', 'darkolivegreen', 'dimgray', 'darkgray'],\n",
    " ['dodgerblue', 'burlywood', 'powderblue', 'skyblue', 'lightslategray'],\n",
    " ['steelblue', 'lightslategray', 'darkslategray', 'rosybrown', 'slategray'],\n",
    " ['gray', 'lightcyan', 'darkslategray', 'darkolivegreen', 'lightblue'],\n",
    " ['peru', 'silver', 'mediumaquamarine', 'darkolivegreen', 'cadetblue'],\n",
    " ['lightsteelblue', 'darkslategray', 'steelblue', 'darkcyan', 'cadetblue'],\n",
    " ['lightgray', 'deepskyblue', 'tan', 'darkcyan', 'skyblue'],\n",
    " ['dodgerblue', 'gainsboro', 'skyblue', 'dodgerblue', 'cornflowerblue'],\n",
    " ['cornflowerblue', 'dodgerblue', 'tan', 'lightsteelblue', 'teal'],\n",
    " ['royalblue', 'darkslateblue', 'lightblue', 'midnightblue', 'cornflowerblue'],\n",
    " ['deepskyblue', 'skyblue', 'steelblue', 'lavender', 'mediumturquoise'],\n",
    " ['cornflowerblue', 'darkslateblue', 'lightsteelblue', 'cadetblue', 'darkslategray'],\n",
    " ['cornflowerblue', 'tan', 'teal', 'lightsteelblue', 'dodgerblue'],\n",
    " ['lightgray', 'darkslategray', 'darkgray', 'midnightblue', 'dimgray'],\n",
    " ['lavender', 'steelblue', 'lightblue', 'cornflowerblue', 'teal'],\n",
    " ['lightslategray', 'burlywood', 'dodgerblue', 'powderblue', 'skyblue'],\n",
    " ['cadetblue', 'lavender', 'darkgray', 'dimgray', 'skyblue'],\n",
    " ['dimgray', 'burlywood', 'rosybrown', 'skyblue', 'lightgray'],\n",
    " ['gainsboro', 'silver', 'tan', 'lightslategray', 'wheat'],\n",
    " ['darkolivegreen', 'lavender', 'mediumturquoise', 'burlywood', 'skyblue'],\n",
    " ['lightgray', 'dimgray', 'linen', 'darkgray', 'darkkhaki']]"
   ]
  },
  {
   "cell_type": "code",
   "execution_count": null,
   "id": "beb06e2d",
   "metadata": {},
   "outputs": [],
   "source": []
  }
 ],
 "metadata": {
  "kernelspec": {
   "display_name": "Python 3 (ipykernel)",
   "language": "python",
   "name": "python3"
  },
  "language_info": {
   "codemirror_mode": {
    "name": "ipython",
    "version": 3
   },
   "file_extension": ".py",
   "mimetype": "text/x-python",
   "name": "python",
   "nbconvert_exporter": "python",
   "pygments_lexer": "ipython3",
   "version": "3.9.13"
  }
 },
 "nbformat": 4,
 "nbformat_minor": 5
}
